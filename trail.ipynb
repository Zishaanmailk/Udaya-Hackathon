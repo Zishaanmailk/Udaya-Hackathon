{
 "cells": [
  {
   "cell_type": "code",
   "execution_count": 1,
   "id": "ee319494-baba-4409-b2b3-a167b825fee2",
   "metadata": {},
   "outputs": [],
   "source": [
    "import numpy as np\n",
    "import pandas as pd\n",
    "import matplotlib.pyplot as plt\n",
    "import seaborn as sns\n",
    "from sklearn.tree import DecisionTreeClassifier\n",
    "from sklearn.naive_bayes import GaussianNB\n",
    "from sklearn.linear_model import LogisticRegression\n",
    "from sklearn.neighbors import KNeighborsClassifier\n",
    "#BaggingClassifier\n",
    "from sklearn.ensemble import RandomForestClassifier,BaggingClassifier\n",
    "from sklearn.model_selection import train_test_split, ShuffleSplit, cross_val_score\n",
    "from sklearn.metrics import confusion_matrix\n",
    "from sklearn.preprocessing import LabelEncoder"
   ]
  },
  {
   "cell_type": "code",
   "execution_count": 2,
   "id": "3c653b15-09dd-4bc0-aa2a-4a21b6b0c97e",
   "metadata": {},
   "outputs": [],
   "source": [
    "import warnings"
   ]
  },
  {
   "cell_type": "code",
   "execution_count": 3,
   "id": "0d8e8539-8d13-44ce-873d-76a013418790",
   "metadata": {},
   "outputs": [
    {
     "data": {
      "text/html": [
       "<div>\n",
       "<style scoped>\n",
       "    .dataframe tbody tr th:only-of-type {\n",
       "        vertical-align: middle;\n",
       "    }\n",
       "\n",
       "    .dataframe tbody tr th {\n",
       "        vertical-align: top;\n",
       "    }\n",
       "\n",
       "    .dataframe thead th {\n",
       "        text-align: right;\n",
       "    }\n",
       "</style>\n",
       "<table border=\"1\" class=\"dataframe\">\n",
       "  <thead>\n",
       "    <tr style=\"text-align: right;\">\n",
       "      <th></th>\n",
       "      <th>Company</th>\n",
       "      <th>Job Title</th>\n",
       "      <th>Location</th>\n",
       "      <th>Job Type</th>\n",
       "      <th>Experience</th>\n",
       "      <th>Skill 1</th>\n",
       "      <th>Skill 2</th>\n",
       "      <th>Skill 3</th>\n",
       "      <th>Skill 4</th>\n",
       "      <th>Skill 5</th>\n",
       "      <th>Skill 6</th>\n",
       "      <th>Perk 1</th>\n",
       "      <th>Perk 2</th>\n",
       "      <th>Perk 3</th>\n",
       "    </tr>\n",
       "  </thead>\n",
       "  <tbody>\n",
       "    <tr>\n",
       "      <th>0</th>\n",
       "      <td>Zscaler</td>\n",
       "      <td>Data Science Intern- Undergrad (Summer 2023)</td>\n",
       "      <td>San Jose, CA, United States</td>\n",
       "      <td>Internship</td>\n",
       "      <td>Entry-level</td>\n",
       "      <td>Agile</td>\n",
       "      <td>Architecture</td>\n",
       "      <td>Data analysis</td>\n",
       "      <td>Data Analytics</td>\n",
       "      <td>Data strategy</td>\n",
       "      <td>Data visualization</td>\n",
       "      <td>Competitive pay</td>\n",
       "      <td>Equity</td>\n",
       "      <td>Health care</td>\n",
       "    </tr>\n",
       "    <tr>\n",
       "      <th>1</th>\n",
       "      <td>RYTE Corporation</td>\n",
       "      <td>R&amp;D Data Scientist Intern (Alternance)</td>\n",
       "      <td>Nice, Provence-Alpes-Côte d'Azur, France</td>\n",
       "      <td>Internship</td>\n",
       "      <td>Entry-level</td>\n",
       "      <td>Big Data</td>\n",
       "      <td>Computer Science</td>\n",
       "      <td>Deep Learning</td>\n",
       "      <td>Engineering</td>\n",
       "      <td>Keras</td>\n",
       "      <td>Python</td>\n",
       "      <td>Career development</td>\n",
       "      <td>Flex vacation</td>\n",
       "      <td>NaN</td>\n",
       "    </tr>\n",
       "    <tr>\n",
       "      <th>2</th>\n",
       "      <td>SOMFY Group</td>\n",
       "      <td>Alternance Data Analyst (H/F)</td>\n",
       "      <td>Cluses, France</td>\n",
       "      <td>Full Time</td>\n",
       "      <td>Entry-level</td>\n",
       "      <td>Data analysis</td>\n",
       "      <td>Excel</td>\n",
       "      <td>Power BI</td>\n",
       "      <td>Python</td>\n",
       "      <td>R</td>\n",
       "      <td>R&amp;D</td>\n",
       "      <td>Salary bonus</td>\n",
       "      <td>NaN</td>\n",
       "      <td>NaN</td>\n",
       "    </tr>\n",
       "    <tr>\n",
       "      <th>3</th>\n",
       "      <td>RYTE Corporation</td>\n",
       "      <td>MLOps Engineer Intern (Alternance)</td>\n",
       "      <td>Nice, Provence-Alpes-Côte d'Azur, France</td>\n",
       "      <td>Internship</td>\n",
       "      <td>Entry-level</td>\n",
       "      <td>Azure</td>\n",
       "      <td>Big Data</td>\n",
       "      <td>CI/CD</td>\n",
       "      <td>Computer Science</td>\n",
       "      <td>Databricks</td>\n",
       "      <td>Deep Learning</td>\n",
       "      <td>Career development</td>\n",
       "      <td>NaN</td>\n",
       "      <td>NaN</td>\n",
       "    </tr>\n",
       "    <tr>\n",
       "      <th>4</th>\n",
       "      <td>RYTE Corporation</td>\n",
       "      <td>Data Scientist (NLP &amp; ML) Intern (Alternance)</td>\n",
       "      <td>Nice, Provence-Alpes-Côte d'Azur, France</td>\n",
       "      <td>Internship</td>\n",
       "      <td>Entry-level</td>\n",
       "      <td>Azure</td>\n",
       "      <td>Big Data</td>\n",
       "      <td>C++</td>\n",
       "      <td>Computer Science</td>\n",
       "      <td>Deep Learning</td>\n",
       "      <td>Docker</td>\n",
       "      <td>Career development</td>\n",
       "      <td>NaN</td>\n",
       "      <td>NaN</td>\n",
       "    </tr>\n",
       "  </tbody>\n",
       "</table>\n",
       "</div>"
      ],
      "text/plain": [
       "            Company                                      Job Title  \\\n",
       "0           Zscaler   Data Science Intern- Undergrad (Summer 2023)   \n",
       "1  RYTE Corporation         R&D Data Scientist Intern (Alternance)   \n",
       "2       SOMFY Group                  Alternance Data Analyst (H/F)   \n",
       "3  RYTE Corporation             MLOps Engineer Intern (Alternance)   \n",
       "4  RYTE Corporation  Data Scientist (NLP & ML) Intern (Alternance)   \n",
       "\n",
       "                                   Location    Job Type   Experience  \\\n",
       "0               San Jose, CA, United States  Internship  Entry-level   \n",
       "1  Nice, Provence-Alpes-Côte d'Azur, France  Internship  Entry-level   \n",
       "2                            Cluses, France   Full Time  Entry-level   \n",
       "3  Nice, Provence-Alpes-Côte d'Azur, France  Internship  Entry-level   \n",
       "4  Nice, Provence-Alpes-Côte d'Azur, France  Internship  Entry-level   \n",
       "\n",
       "         Skill 1           Skill 2        Skill 3           Skill 4  \\\n",
       "0          Agile      Architecture  Data analysis    Data Analytics   \n",
       "1       Big Data  Computer Science  Deep Learning       Engineering   \n",
       "2  Data analysis             Excel       Power BI            Python   \n",
       "3          Azure          Big Data          CI/CD  Computer Science   \n",
       "4          Azure          Big Data            C++  Computer Science   \n",
       "\n",
       "         Skill 5             Skill 6              Perk 1         Perk 2  \\\n",
       "0  Data strategy  Data visualization     Competitive pay         Equity   \n",
       "1          Keras              Python  Career development  Flex vacation   \n",
       "2              R                 R&D        Salary bonus            NaN   \n",
       "3     Databricks       Deep Learning  Career development            NaN   \n",
       "4  Deep Learning              Docker  Career development            NaN   \n",
       "\n",
       "        Perk 3  \n",
       "0  Health care  \n",
       "1          NaN  \n",
       "2          NaN  \n",
       "3          NaN  \n",
       "4          NaN  "
      ]
     },
     "execution_count": 3,
     "metadata": {},
     "output_type": "execute_result"
    }
   ],
   "source": [
    "data=pd.read_csv('internships.csv')\n",
    "data.head()"
   ]
  },
  {
   "cell_type": "code",
   "execution_count": 4,
   "id": "bca1ef16-7605-42fe-a175-c0491e1fa127",
   "metadata": {},
   "outputs": [
    {
     "data": {
      "text/plain": [
       "Company         0\n",
       "Job Title       0\n",
       "Location        0\n",
       "Job Type        0\n",
       "Experience      0\n",
       "Skill 1         0\n",
       "Skill 2         2\n",
       "Skill 3         6\n",
       "Skill 4         9\n",
       "Skill 5        15\n",
       "Skill 6        24\n",
       "Perk 1         37\n",
       "Perk 2        101\n",
       "Perk 3        141\n",
       "dtype: int64"
      ]
     },
     "execution_count": 4,
     "metadata": {},
     "output_type": "execute_result"
    }
   ],
   "source": [
    "data.isnull().sum()"
   ]
  },
  {
   "cell_type": "code",
   "execution_count": 5,
   "id": "dcaefd00-0c2d-4191-8be1-9c2c96ae4aa7",
   "metadata": {},
   "outputs": [
    {
     "data": {
      "text/html": [
       "<div>\n",
       "<style scoped>\n",
       "    .dataframe tbody tr th:only-of-type {\n",
       "        vertical-align: middle;\n",
       "    }\n",
       "\n",
       "    .dataframe tbody tr th {\n",
       "        vertical-align: top;\n",
       "    }\n",
       "\n",
       "    .dataframe thead th {\n",
       "        text-align: right;\n",
       "    }\n",
       "</style>\n",
       "<table border=\"1\" class=\"dataframe\">\n",
       "  <thead>\n",
       "    <tr style=\"text-align: right;\">\n",
       "      <th></th>\n",
       "      <th>Company</th>\n",
       "      <th>Job Title</th>\n",
       "      <th>Location</th>\n",
       "      <th>Job Type</th>\n",
       "      <th>Experience</th>\n",
       "      <th>Skill 1</th>\n",
       "      <th>Skill 2</th>\n",
       "      <th>Skill 3</th>\n",
       "      <th>Skill 4</th>\n",
       "      <th>Skill 5</th>\n",
       "      <th>Skill 6</th>\n",
       "    </tr>\n",
       "  </thead>\n",
       "  <tbody>\n",
       "    <tr>\n",
       "      <th>0</th>\n",
       "      <td>Zscaler</td>\n",
       "      <td>Data Science Intern- Undergrad (Summer 2023)</td>\n",
       "      <td>San Jose, CA, United States</td>\n",
       "      <td>Internship</td>\n",
       "      <td>Entry-level</td>\n",
       "      <td>Agile</td>\n",
       "      <td>Architecture</td>\n",
       "      <td>Data analysis</td>\n",
       "      <td>Data Analytics</td>\n",
       "      <td>Data strategy</td>\n",
       "      <td>Data visualization</td>\n",
       "    </tr>\n",
       "    <tr>\n",
       "      <th>1</th>\n",
       "      <td>RYTE Corporation</td>\n",
       "      <td>R&amp;D Data Scientist Intern (Alternance)</td>\n",
       "      <td>Nice, Provence-Alpes-Côte d'Azur, France</td>\n",
       "      <td>Internship</td>\n",
       "      <td>Entry-level</td>\n",
       "      <td>Big Data</td>\n",
       "      <td>Computer Science</td>\n",
       "      <td>Deep Learning</td>\n",
       "      <td>Engineering</td>\n",
       "      <td>Keras</td>\n",
       "      <td>Python</td>\n",
       "    </tr>\n",
       "    <tr>\n",
       "      <th>2</th>\n",
       "      <td>SOMFY Group</td>\n",
       "      <td>Alternance Data Analyst (H/F)</td>\n",
       "      <td>Cluses, France</td>\n",
       "      <td>Full Time</td>\n",
       "      <td>Entry-level</td>\n",
       "      <td>Data analysis</td>\n",
       "      <td>Excel</td>\n",
       "      <td>Power BI</td>\n",
       "      <td>Python</td>\n",
       "      <td>R</td>\n",
       "      <td>R&amp;D</td>\n",
       "    </tr>\n",
       "    <tr>\n",
       "      <th>3</th>\n",
       "      <td>RYTE Corporation</td>\n",
       "      <td>MLOps Engineer Intern (Alternance)</td>\n",
       "      <td>Nice, Provence-Alpes-Côte d'Azur, France</td>\n",
       "      <td>Internship</td>\n",
       "      <td>Entry-level</td>\n",
       "      <td>Azure</td>\n",
       "      <td>Big Data</td>\n",
       "      <td>CI/CD</td>\n",
       "      <td>Computer Science</td>\n",
       "      <td>Databricks</td>\n",
       "      <td>Deep Learning</td>\n",
       "    </tr>\n",
       "    <tr>\n",
       "      <th>4</th>\n",
       "      <td>RYTE Corporation</td>\n",
       "      <td>Data Scientist (NLP &amp; ML) Intern (Alternance)</td>\n",
       "      <td>Nice, Provence-Alpes-Côte d'Azur, France</td>\n",
       "      <td>Internship</td>\n",
       "      <td>Entry-level</td>\n",
       "      <td>Azure</td>\n",
       "      <td>Big Data</td>\n",
       "      <td>C++</td>\n",
       "      <td>Computer Science</td>\n",
       "      <td>Deep Learning</td>\n",
       "      <td>Docker</td>\n",
       "    </tr>\n",
       "  </tbody>\n",
       "</table>\n",
       "</div>"
      ],
      "text/plain": [
       "            Company                                      Job Title  \\\n",
       "0           Zscaler   Data Science Intern- Undergrad (Summer 2023)   \n",
       "1  RYTE Corporation         R&D Data Scientist Intern (Alternance)   \n",
       "2       SOMFY Group                  Alternance Data Analyst (H/F)   \n",
       "3  RYTE Corporation             MLOps Engineer Intern (Alternance)   \n",
       "4  RYTE Corporation  Data Scientist (NLP & ML) Intern (Alternance)   \n",
       "\n",
       "                                   Location    Job Type   Experience  \\\n",
       "0               San Jose, CA, United States  Internship  Entry-level   \n",
       "1  Nice, Provence-Alpes-Côte d'Azur, France  Internship  Entry-level   \n",
       "2                            Cluses, France   Full Time  Entry-level   \n",
       "3  Nice, Provence-Alpes-Côte d'Azur, France  Internship  Entry-level   \n",
       "4  Nice, Provence-Alpes-Côte d'Azur, France  Internship  Entry-level   \n",
       "\n",
       "         Skill 1           Skill 2        Skill 3           Skill 4  \\\n",
       "0          Agile      Architecture  Data analysis    Data Analytics   \n",
       "1       Big Data  Computer Science  Deep Learning       Engineering   \n",
       "2  Data analysis             Excel       Power BI            Python   \n",
       "3          Azure          Big Data          CI/CD  Computer Science   \n",
       "4          Azure          Big Data            C++  Computer Science   \n",
       "\n",
       "         Skill 5             Skill 6  \n",
       "0  Data strategy  Data visualization  \n",
       "1          Keras              Python  \n",
       "2              R                 R&D  \n",
       "3     Databricks       Deep Learning  \n",
       "4  Deep Learning              Docker  "
      ]
     },
     "execution_count": 5,
     "metadata": {},
     "output_type": "execute_result"
    }
   ],
   "source": [
    "data1=data.drop(['Perk 3','Perk 2','Perk 1'],axis=1)\n",
    "data1.head()"
   ]
  },
  {
   "cell_type": "code",
   "execution_count": 6,
   "id": "456049c6-1e33-407b-bc6b-2447f98045da",
   "metadata": {},
   "outputs": [
    {
     "data": {
      "text/plain": [
       "(Company        0\n",
       " Job Title      0\n",
       " Location       0\n",
       " Job Type       0\n",
       " Experience     0\n",
       " Skill 1        0\n",
       " Skill 2        2\n",
       " Skill 3        6\n",
       " Skill 4        9\n",
       " Skill 5       15\n",
       " Skill 6       24\n",
       " dtype: int64,\n",
       " np.int64(56))"
      ]
     },
     "execution_count": 6,
     "metadata": {},
     "output_type": "execute_result"
    }
   ],
   "source": [
    "data1.isnull().sum() , data1.isnull().sum().sum()"
   ]
  },
  {
   "cell_type": "code",
   "execution_count": 7,
   "id": "204e9e9c-ff4a-4b81-a197-5e2b9812567f",
   "metadata": {},
   "outputs": [],
   "source": [
    "data1['Skill 2']=data1['Skill 2'].apply(lambda x: x.lower() if pd.notna(x) else 'none')\n",
    "data1['Skill 3']=data1['Skill 3'].apply(lambda x: x.lower() if pd.notna(x) else 'none')\n",
    "data1['Skill 4']=data1['Skill 4'].apply(lambda x: x.lower() if pd.notna(x) else 'none')\n",
    "data1['Skill 5']=data1['Skill 5'].apply(lambda x: x.lower() if pd.notna(x) else 'none')\n",
    "data1['Skill 6']=data1['Skill 6'].apply(lambda x: x.lower() if pd.notna(x) else 'none')"
   ]
  },
  {
   "cell_type": "code",
   "execution_count": 8,
   "id": "82fbb18f-2989-4174-afab-8f87176199a0",
   "metadata": {},
   "outputs": [
    {
     "data": {
      "text/plain": [
       "(Company       0\n",
       " Job Title     0\n",
       " Location      0\n",
       " Job Type      0\n",
       " Experience    0\n",
       " Skill 1       0\n",
       " Skill 2       0\n",
       " Skill 3       0\n",
       " Skill 4       0\n",
       " Skill 5       0\n",
       " Skill 6       0\n",
       " dtype: int64,\n",
       " np.int64(0))"
      ]
     },
     "execution_count": 8,
     "metadata": {},
     "output_type": "execute_result"
    }
   ],
   "source": [
    "data1.isnull().sum() , data1.isnull().sum().sum()"
   ]
  },
  {
   "cell_type": "code",
   "execution_count": 9,
   "id": "2aca27c5-d03e-48a7-a95e-8e0a117ffa65",
   "metadata": {},
   "outputs": [],
   "source": [
    "data1['Job Title']=data1['Job Title'].apply(lambda x: x.lower())\n",
    "data1['Location']=data1['Location'].apply(lambda x: x.lower())\n",
    "data1['Company']=data1['Company'].apply(lambda x: x.lower())\n",
    "data1['Job Type']=data1['Job Type'].apply(lambda x: x.lower())\n",
    "data1['Experience']=data1['Experience'].apply(lambda x: x.lower())\n",
    "data1['Skill 1']=data1['Skill 1'].apply(lambda x: x.lower())"
   ]
  },
  {
   "cell_type": "code",
   "execution_count": 10,
   "id": "aa48cf8d-8743-4793-838d-715aae7ca958",
   "metadata": {},
   "outputs": [
    {
     "data": {
      "text/plain": [
       "Job Title\n",
       "data science intern                                                                       11\n",
       "[intern] ai/ computer vision engineer                                                      3\n",
       "data analyst intern                                                                        3\n",
       "data scientist intern                                                                      3\n",
       "data engineer / data analyst - stage de fin d'études - paris 2e                            3\n",
       "                                                                                          ..\n",
       "summer internship, product management | data management (us)                               1\n",
       "summer internship, research scientist, audio intelligence | music mission (emea or us)     1\n",
       "website & data analyses - internship eu student                                            1\n",
       "📈 nlp research intern                                                                      1\n",
       "📊 data analyst intern - business & product ops                                             1\n",
       "Name: Job Title, Length: 186, dtype: int64"
      ]
     },
     "execution_count": 10,
     "metadata": {},
     "output_type": "execute_result"
    }
   ],
   "source": [
    "data1.groupby('Job Title')['Job Title'].count().sort_values(ascending=False)"
   ]
  },
  {
   "cell_type": "code",
   "execution_count": 11,
   "id": "3aaf081d-6cf3-4c32-a89a-d44f0097c7fa",
   "metadata": {},
   "outputs": [
    {
     "data": {
      "text/plain": [
       "Company\n",
       "bosch group         21\n",
       "publicis groupe      8\n",
       "cleverconnect        7\n",
       "ryte corporation     6\n",
       "spotify              6\n",
       "                    ..\n",
       "voodoo               1\n",
       "wisk aero            1\n",
       "zeta global          1\n",
       "zscaler              1\n",
       "zuora                1\n",
       "Name: Company, Length: 123, dtype: int64"
      ]
     },
     "execution_count": 11,
     "metadata": {},
     "output_type": "execute_result"
    }
   ],
   "source": [
    "data1.groupby('Company')['Company'].count().sort_values(ascending=False)"
   ]
  },
  {
   "cell_type": "code",
   "execution_count": 12,
   "id": "a08fd071-4f69-4df7-8c5c-aa5fd3b3f5f6",
   "metadata": {},
   "outputs": [
    {
     "data": {
      "text/html": [
       "<div>\n",
       "<style scoped>\n",
       "    .dataframe tbody tr th:only-of-type {\n",
       "        vertical-align: middle;\n",
       "    }\n",
       "\n",
       "    .dataframe tbody tr th {\n",
       "        vertical-align: top;\n",
       "    }\n",
       "\n",
       "    .dataframe thead th {\n",
       "        text-align: right;\n",
       "    }\n",
       "</style>\n",
       "<table border=\"1\" class=\"dataframe\">\n",
       "  <thead>\n",
       "    <tr style=\"text-align: right;\">\n",
       "      <th></th>\n",
       "      <th>Company</th>\n",
       "      <th>Job Title</th>\n",
       "      <th>Location</th>\n",
       "      <th>Job Type</th>\n",
       "      <th>Experience</th>\n",
       "      <th>Skill 1</th>\n",
       "      <th>Skill 2</th>\n",
       "      <th>Skill 3</th>\n",
       "      <th>Skill 4</th>\n",
       "      <th>Skill 5</th>\n",
       "      <th>Skill 6</th>\n",
       "    </tr>\n",
       "  </thead>\n",
       "  <tbody>\n",
       "    <tr>\n",
       "      <th>0</th>\n",
       "      <td>zscaler</td>\n",
       "      <td>data science intern- undergrad (summer 2023)</td>\n",
       "      <td>san jose, ca, united states</td>\n",
       "      <td>internship</td>\n",
       "      <td>entry-level</td>\n",
       "      <td>agile</td>\n",
       "      <td>architecture</td>\n",
       "      <td>data analysis</td>\n",
       "      <td>data analytics</td>\n",
       "      <td>data strategy</td>\n",
       "      <td>data visualization</td>\n",
       "    </tr>\n",
       "    <tr>\n",
       "      <th>1</th>\n",
       "      <td>ryte corporation</td>\n",
       "      <td>r&amp;d data scientist intern (alternance)</td>\n",
       "      <td>nice, provence-alpes-côte d'azur, france</td>\n",
       "      <td>internship</td>\n",
       "      <td>entry-level</td>\n",
       "      <td>big data</td>\n",
       "      <td>computer science</td>\n",
       "      <td>deep learning</td>\n",
       "      <td>engineering</td>\n",
       "      <td>keras</td>\n",
       "      <td>python</td>\n",
       "    </tr>\n",
       "    <tr>\n",
       "      <th>2</th>\n",
       "      <td>somfy group</td>\n",
       "      <td>alternance data analyst (h/f)</td>\n",
       "      <td>cluses, france</td>\n",
       "      <td>full time</td>\n",
       "      <td>entry-level</td>\n",
       "      <td>data analysis</td>\n",
       "      <td>excel</td>\n",
       "      <td>power bi</td>\n",
       "      <td>python</td>\n",
       "      <td>r</td>\n",
       "      <td>r&amp;d</td>\n",
       "    </tr>\n",
       "    <tr>\n",
       "      <th>3</th>\n",
       "      <td>ryte corporation</td>\n",
       "      <td>mlops engineer intern (alternance)</td>\n",
       "      <td>nice, provence-alpes-côte d'azur, france</td>\n",
       "      <td>internship</td>\n",
       "      <td>entry-level</td>\n",
       "      <td>azure</td>\n",
       "      <td>big data</td>\n",
       "      <td>ci/cd</td>\n",
       "      <td>computer science</td>\n",
       "      <td>databricks</td>\n",
       "      <td>deep learning</td>\n",
       "    </tr>\n",
       "    <tr>\n",
       "      <th>4</th>\n",
       "      <td>ryte corporation</td>\n",
       "      <td>data scientist (nlp &amp; ml) intern (alternance)</td>\n",
       "      <td>nice, provence-alpes-côte d'azur, france</td>\n",
       "      <td>internship</td>\n",
       "      <td>entry-level</td>\n",
       "      <td>azure</td>\n",
       "      <td>big data</td>\n",
       "      <td>c++</td>\n",
       "      <td>computer science</td>\n",
       "      <td>deep learning</td>\n",
       "      <td>docker</td>\n",
       "    </tr>\n",
       "  </tbody>\n",
       "</table>\n",
       "</div>"
      ],
      "text/plain": [
       "            Company                                      Job Title  \\\n",
       "0           zscaler   data science intern- undergrad (summer 2023)   \n",
       "1  ryte corporation         r&d data scientist intern (alternance)   \n",
       "2       somfy group                  alternance data analyst (h/f)   \n",
       "3  ryte corporation             mlops engineer intern (alternance)   \n",
       "4  ryte corporation  data scientist (nlp & ml) intern (alternance)   \n",
       "\n",
       "                                   Location    Job Type   Experience  \\\n",
       "0               san jose, ca, united states  internship  entry-level   \n",
       "1  nice, provence-alpes-côte d'azur, france  internship  entry-level   \n",
       "2                            cluses, france   full time  entry-level   \n",
       "3  nice, provence-alpes-côte d'azur, france  internship  entry-level   \n",
       "4  nice, provence-alpes-côte d'azur, france  internship  entry-level   \n",
       "\n",
       "         Skill 1           Skill 2        Skill 3           Skill 4  \\\n",
       "0          agile      architecture  data analysis    data analytics   \n",
       "1       big data  computer science  deep learning       engineering   \n",
       "2  data analysis             excel       power bi            python   \n",
       "3          azure          big data          ci/cd  computer science   \n",
       "4          azure          big data            c++  computer science   \n",
       "\n",
       "         Skill 5             Skill 6  \n",
       "0  data strategy  data visualization  \n",
       "1          keras              python  \n",
       "2              r                 r&d  \n",
       "3     databricks       deep learning  \n",
       "4  deep learning              docker  "
      ]
     },
     "execution_count": 12,
     "metadata": {},
     "output_type": "execute_result"
    }
   ],
   "source": [
    "data1.head()"
   ]
  },
  {
   "cell_type": "code",
   "execution_count": 13,
   "id": "364501e4-6721-44d8-8e2d-02e203f6aba3",
   "metadata": {},
   "outputs": [],
   "source": [
    "l=LabelEncoder()"
   ]
  },
  {
   "cell_type": "code",
   "execution_count": 14,
   "id": "4b842af3-a57b-4a06-ac0d-4b019510433d",
   "metadata": {},
   "outputs": [],
   "source": [
    "data2=data1"
   ]
  },
  {
   "cell_type": "code",
   "execution_count": 15,
   "id": "973d61af-1823-47ab-82d7-bcd61277e8f0",
   "metadata": {},
   "outputs": [],
   "source": [
    "data2['Skill 1']=l.fit_transform(data2['Skill 1'])\n",
    "data2['Skill 2']=l.fit_transform(data2['Skill 2'])\n",
    "data2['Skill 3']=l.fit_transform(data2['Skill 3'])\n",
    "data2['Skill 4']=l.fit_transform(data2['Skill 4'])\n",
    "data2['Skill 5']=l.fit_transform(data2['Skill 5'])\n",
    "data2['Skill 6']=l.fit_transform(data2['Skill 6'])\n",
    "data2['Job Title']=l.fit_transform(data2['Job Title'])\n",
    "data2['Location']=l.fit_transform(data2['Location'])\n",
    "data2['Company']=l.fit_transform(data2['Company'])\n",
    "data2['Job Type']=l.fit_transform(data2['Job Type'])\n",
    "data2['Experience']=l.fit_transform(data2['Experience'])"
   ]
  },
  {
   "cell_type": "code",
   "execution_count": 16,
   "id": "cb3e569e-4391-4650-88fa-d54d45557a98",
   "metadata": {
    "scrolled": true
   },
   "outputs": [
    {
     "data": {
      "text/html": [
       "<div>\n",
       "<style scoped>\n",
       "    .dataframe tbody tr th:only-of-type {\n",
       "        vertical-align: middle;\n",
       "    }\n",
       "\n",
       "    .dataframe tbody tr th {\n",
       "        vertical-align: top;\n",
       "    }\n",
       "\n",
       "    .dataframe thead th {\n",
       "        text-align: right;\n",
       "    }\n",
       "</style>\n",
       "<table border=\"1\" class=\"dataframe\">\n",
       "  <thead>\n",
       "    <tr style=\"text-align: right;\">\n",
       "      <th></th>\n",
       "      <th>Company</th>\n",
       "      <th>Job Title</th>\n",
       "      <th>Location</th>\n",
       "      <th>Job Type</th>\n",
       "      <th>Experience</th>\n",
       "      <th>Skill 1</th>\n",
       "      <th>Skill 2</th>\n",
       "      <th>Skill 3</th>\n",
       "      <th>Skill 4</th>\n",
       "      <th>Skill 5</th>\n",
       "      <th>Skill 6</th>\n",
       "    </tr>\n",
       "  </thead>\n",
       "  <tbody>\n",
       "    <tr>\n",
       "      <th>0</th>\n",
       "      <td>121</td>\n",
       "      <td>90</td>\n",
       "      <td>108</td>\n",
       "      <td>1</td>\n",
       "      <td>0</td>\n",
       "      <td>1</td>\n",
       "      <td>4</td>\n",
       "      <td>18</td>\n",
       "      <td>12</td>\n",
       "      <td>11</td>\n",
       "      <td>8</td>\n",
       "    </tr>\n",
       "    <tr>\n",
       "      <th>1</th>\n",
       "      <td>82</td>\n",
       "      <td>163</td>\n",
       "      <td>76</td>\n",
       "      <td>1</td>\n",
       "      <td>0</td>\n",
       "      <td>17</td>\n",
       "      <td>19</td>\n",
       "      <td>28</td>\n",
       "      <td>29</td>\n",
       "      <td>40</td>\n",
       "      <td>62</td>\n",
       "    </tr>\n",
       "    <tr>\n",
       "      <th>2</th>\n",
       "      <td>95</td>\n",
       "      <td>16</td>\n",
       "      <td>31</td>\n",
       "      <td>0</td>\n",
       "      <td>0</td>\n",
       "      <td>34</td>\n",
       "      <td>41</td>\n",
       "      <td>56</td>\n",
       "      <td>64</td>\n",
       "      <td>66</td>\n",
       "      <td>64</td>\n",
       "    </tr>\n",
       "    <tr>\n",
       "      <th>3</th>\n",
       "      <td>82</td>\n",
       "      <td>151</td>\n",
       "      <td>76</td>\n",
       "      <td>1</td>\n",
       "      <td>0</td>\n",
       "      <td>13</td>\n",
       "      <td>8</td>\n",
       "      <td>12</td>\n",
       "      <td>7</td>\n",
       "      <td>13</td>\n",
       "      <td>12</td>\n",
       "    </tr>\n",
       "    <tr>\n",
       "      <th>4</th>\n",
       "      <td>82</td>\n",
       "      <td>95</td>\n",
       "      <td>76</td>\n",
       "      <td>1</td>\n",
       "      <td>0</td>\n",
       "      <td>13</td>\n",
       "      <td>8</td>\n",
       "      <td>8</td>\n",
       "      <td>7</td>\n",
       "      <td>15</td>\n",
       "      <td>15</td>\n",
       "    </tr>\n",
       "  </tbody>\n",
       "</table>\n",
       "</div>"
      ],
      "text/plain": [
       "   Company  Job Title  Location  Job Type  Experience  Skill 1  Skill 2  \\\n",
       "0      121         90       108         1           0        1        4   \n",
       "1       82        163        76         1           0       17       19   \n",
       "2       95         16        31         0           0       34       41   \n",
       "3       82        151        76         1           0       13        8   \n",
       "4       82         95        76         1           0       13        8   \n",
       "\n",
       "   Skill 3  Skill 4  Skill 5  Skill 6  \n",
       "0       18       12       11        8  \n",
       "1       28       29       40       62  \n",
       "2       56       64       66       64  \n",
       "3       12        7       13       12  \n",
       "4        8        7       15       15  "
      ]
     },
     "execution_count": 16,
     "metadata": {},
     "output_type": "execute_result"
    }
   ],
   "source": [
    "data2.head()"
   ]
  },
  {
   "cell_type": "code",
   "execution_count": 17,
   "id": "8cc736f1-005d-4cdb-a829-3e6660fb8d6e",
   "metadata": {},
   "outputs": [
    {
     "data": {
      "text/html": [
       "<div>\n",
       "<style scoped>\n",
       "    .dataframe tbody tr th:only-of-type {\n",
       "        vertical-align: middle;\n",
       "    }\n",
       "\n",
       "    .dataframe tbody tr th {\n",
       "        vertical-align: top;\n",
       "    }\n",
       "\n",
       "    .dataframe thead th {\n",
       "        text-align: right;\n",
       "    }\n",
       "</style>\n",
       "<table border=\"1\" class=\"dataframe\">\n",
       "  <thead>\n",
       "    <tr style=\"text-align: right;\">\n",
       "      <th></th>\n",
       "      <th>Company</th>\n",
       "      <th>Location</th>\n",
       "      <th>Job Type</th>\n",
       "      <th>Experience</th>\n",
       "      <th>Skill 1</th>\n",
       "      <th>Skill 2</th>\n",
       "      <th>Skill 3</th>\n",
       "      <th>Skill 4</th>\n",
       "      <th>Skill 5</th>\n",
       "      <th>Skill 6</th>\n",
       "    </tr>\n",
       "  </thead>\n",
       "  <tbody>\n",
       "    <tr>\n",
       "      <th>0</th>\n",
       "      <td>121</td>\n",
       "      <td>108</td>\n",
       "      <td>1</td>\n",
       "      <td>0</td>\n",
       "      <td>1</td>\n",
       "      <td>4</td>\n",
       "      <td>18</td>\n",
       "      <td>12</td>\n",
       "      <td>11</td>\n",
       "      <td>8</td>\n",
       "    </tr>\n",
       "    <tr>\n",
       "      <th>1</th>\n",
       "      <td>82</td>\n",
       "      <td>76</td>\n",
       "      <td>1</td>\n",
       "      <td>0</td>\n",
       "      <td>17</td>\n",
       "      <td>19</td>\n",
       "      <td>28</td>\n",
       "      <td>29</td>\n",
       "      <td>40</td>\n",
       "      <td>62</td>\n",
       "    </tr>\n",
       "    <tr>\n",
       "      <th>2</th>\n",
       "      <td>95</td>\n",
       "      <td>31</td>\n",
       "      <td>0</td>\n",
       "      <td>0</td>\n",
       "      <td>34</td>\n",
       "      <td>41</td>\n",
       "      <td>56</td>\n",
       "      <td>64</td>\n",
       "      <td>66</td>\n",
       "      <td>64</td>\n",
       "    </tr>\n",
       "    <tr>\n",
       "      <th>3</th>\n",
       "      <td>82</td>\n",
       "      <td>76</td>\n",
       "      <td>1</td>\n",
       "      <td>0</td>\n",
       "      <td>13</td>\n",
       "      <td>8</td>\n",
       "      <td>12</td>\n",
       "      <td>7</td>\n",
       "      <td>13</td>\n",
       "      <td>12</td>\n",
       "    </tr>\n",
       "    <tr>\n",
       "      <th>4</th>\n",
       "      <td>82</td>\n",
       "      <td>76</td>\n",
       "      <td>1</td>\n",
       "      <td>0</td>\n",
       "      <td>13</td>\n",
       "      <td>8</td>\n",
       "      <td>8</td>\n",
       "      <td>7</td>\n",
       "      <td>15</td>\n",
       "      <td>15</td>\n",
       "    </tr>\n",
       "  </tbody>\n",
       "</table>\n",
       "</div>"
      ],
      "text/plain": [
       "   Company  Location  Job Type  Experience  Skill 1  Skill 2  Skill 3  \\\n",
       "0      121       108         1           0        1        4       18   \n",
       "1       82        76         1           0       17       19       28   \n",
       "2       95        31         0           0       34       41       56   \n",
       "3       82        76         1           0       13        8       12   \n",
       "4       82        76         1           0       13        8        8   \n",
       "\n",
       "   Skill 4  Skill 5  Skill 6  \n",
       "0       12       11        8  \n",
       "1       29       40       62  \n",
       "2       64       66       64  \n",
       "3        7       13       12  \n",
       "4        7       15       15  "
      ]
     },
     "execution_count": 17,
     "metadata": {},
     "output_type": "execute_result"
    }
   ],
   "source": [
    "feature=data2.drop(['Job Title'],axis=1)\n",
    "feature.head()"
   ]
  },
  {
   "cell_type": "code",
   "execution_count": 18,
   "id": "7218603f-8475-4467-bae4-96bb2398988a",
   "metadata": {},
   "outputs": [
    {
     "data": {
      "text/html": [
       "<div>\n",
       "<style scoped>\n",
       "    .dataframe tbody tr th:only-of-type {\n",
       "        vertical-align: middle;\n",
       "    }\n",
       "\n",
       "    .dataframe tbody tr th {\n",
       "        vertical-align: top;\n",
       "    }\n",
       "\n",
       "    .dataframe thead th {\n",
       "        text-align: right;\n",
       "    }\n",
       "</style>\n",
       "<table border=\"1\" class=\"dataframe\">\n",
       "  <thead>\n",
       "    <tr style=\"text-align: right;\">\n",
       "      <th></th>\n",
       "      <th>Job Title</th>\n",
       "    </tr>\n",
       "  </thead>\n",
       "  <tbody>\n",
       "    <tr>\n",
       "      <th>0</th>\n",
       "      <td>90</td>\n",
       "    </tr>\n",
       "    <tr>\n",
       "      <th>1</th>\n",
       "      <td>163</td>\n",
       "    </tr>\n",
       "    <tr>\n",
       "      <th>2</th>\n",
       "      <td>16</td>\n",
       "    </tr>\n",
       "    <tr>\n",
       "      <th>3</th>\n",
       "      <td>151</td>\n",
       "    </tr>\n",
       "    <tr>\n",
       "      <th>4</th>\n",
       "      <td>95</td>\n",
       "    </tr>\n",
       "    <tr>\n",
       "      <th>...</th>\n",
       "      <td>...</td>\n",
       "    </tr>\n",
       "    <tr>\n",
       "      <th>223</th>\n",
       "      <td>72</td>\n",
       "    </tr>\n",
       "    <tr>\n",
       "      <th>224</th>\n",
       "      <td>145</td>\n",
       "    </tr>\n",
       "    <tr>\n",
       "      <th>225</th>\n",
       "      <td>20</td>\n",
       "    </tr>\n",
       "    <tr>\n",
       "      <th>226</th>\n",
       "      <td>182</td>\n",
       "    </tr>\n",
       "    <tr>\n",
       "      <th>227</th>\n",
       "      <td>130</td>\n",
       "    </tr>\n",
       "  </tbody>\n",
       "</table>\n",
       "<p>228 rows × 1 columns</p>\n",
       "</div>"
      ],
      "text/plain": [
       "     Job Title\n",
       "0           90\n",
       "1          163\n",
       "2           16\n",
       "3          151\n",
       "4           95\n",
       "..         ...\n",
       "223         72\n",
       "224        145\n",
       "225         20\n",
       "226        182\n",
       "227        130\n",
       "\n",
       "[228 rows x 1 columns]"
      ]
     },
     "execution_count": 18,
     "metadata": {},
     "output_type": "execute_result"
    }
   ],
   "source": [
    "target=pd.DataFrame()\n",
    "target['Job Title']=data2['Job Title']\n",
    "target"
   ]
  },
  {
   "cell_type": "markdown",
   "id": "33b07a76-99a4-4344-a6a9-0a0a8d0763e4",
   "metadata": {},
   "source": [
    "## using ShuffleSplit (not good for small data)"
   ]
  },
  {
   "cell_type": "code",
   "execution_count": 19,
   "id": "03c88fb8-3946-41d9-a6f0-5836dac8f453",
   "metadata": {},
   "outputs": [],
   "source": [
    "cv=ShuffleSplit(n_splits=2)"
   ]
  },
  {
   "cell_type": "code",
   "execution_count": 20,
   "id": "c4ad614f-7861-41dd-aa67-cc6e65aff613",
   "metadata": {},
   "outputs": [
    {
     "data": {
      "text/plain": [
       "array([0.13043478, 0.08695652])"
      ]
     },
     "execution_count": 20,
     "metadata": {},
     "output_type": "execute_result"
    }
   ],
   "source": [
    "model1=LogisticRegression(max_iter=500)\n",
    "warnings.filterwarnings('ignore')\n",
    "cross_val_score(model1,feature,target,cv=cv)"
   ]
  },
  {
   "cell_type": "code",
   "execution_count": 21,
   "id": "0ec160a1-d9b9-444f-bd0e-c3d30f1f32af",
   "metadata": {
    "scrolled": true
   },
   "outputs": [
    {
     "data": {
      "text/plain": [
       "array([0.17391304, 0.        ])"
      ]
     },
     "execution_count": 21,
     "metadata": {},
     "output_type": "execute_result"
    }
   ],
   "source": [
    "model2=GaussianNB()\n",
    "warnings.filterwarnings('ignore')\n",
    "cross_val_score(model2,feature,target,cv=cv)"
   ]
  },
  {
   "cell_type": "code",
   "execution_count": 22,
   "id": "adcc87cd-cefb-4d24-b9df-6a5b812f32a9",
   "metadata": {},
   "outputs": [
    {
     "data": {
      "text/plain": [
       "array([0.08695652, 0.13043478])"
      ]
     },
     "execution_count": 22,
     "metadata": {},
     "output_type": "execute_result"
    }
   ],
   "source": [
    "model3=DecisionTreeClassifier()\n",
    "cross_val_score(model3,feature,target,cv=cv)"
   ]
  },
  {
   "cell_type": "code",
   "execution_count": 23,
   "id": "5ec96003-a254-4450-8f8f-6a1818d635bd",
   "metadata": {},
   "outputs": [
    {
     "data": {
      "text/plain": [
       "array([0.17391304, 0.08695652])"
      ]
     },
     "execution_count": 23,
     "metadata": {},
     "output_type": "execute_result"
    }
   ],
   "source": [
    "model4=RandomForestClassifier(n_estimators=200)\n",
    "warnings.filterwarnings('ignore')\n",
    "cross_val_score(model4,feature,target,cv=cv)"
   ]
  },
  {
   "cell_type": "code",
   "execution_count": 24,
   "id": "629cfc05-3f20-4a04-886e-d98db071afbb",
   "metadata": {
    "scrolled": true
   },
   "outputs": [
    {
     "data": {
      "text/plain": [
       "array([0., 0.])"
      ]
     },
     "execution_count": 24,
     "metadata": {},
     "output_type": "execute_result"
    }
   ],
   "source": [
    "model5=KNeighborsClassifier(n_neighbors=5)\n",
    "warnings.filterwarnings('ignore')\n",
    "cross_val_score(model5,feature,target,cv=cv)"
   ]
  },
  {
   "cell_type": "code",
   "execution_count": 25,
   "id": "e04c21b8-30eb-4bdc-b9e1-dff04caa9360",
   "metadata": {
    "scrolled": true
   },
   "outputs": [
    {
     "data": {
      "text/plain": [
       "array([0.08695652, 0.08695652])"
      ]
     },
     "execution_count": 25,
     "metadata": {},
     "output_type": "execute_result"
    }
   ],
   "source": [
    "model6=BaggingClassifier(n_estimators=100,estimator=model1)\n",
    "warnings.filterwarnings('ignore')\n",
    "m1=cross_val_score(model6,feature,target,cv=cv)\n",
    "warnings.filterwarnings('ignore')\n",
    "m1"
   ]
  },
  {
   "cell_type": "code",
   "execution_count": 26,
   "id": "a6f4bb0a-8b92-4a3d-bce6-ae88c5ca4b5a",
   "metadata": {},
   "outputs": [
    {
     "data": {
      "text/plain": [
       "array([0.08695652, 0.        ])"
      ]
     },
     "execution_count": 26,
     "metadata": {},
     "output_type": "execute_result"
    }
   ],
   "source": [
    "model7=BaggingClassifier(n_estimators=100,estimator=model2)\n",
    "warnings.filterwarnings('ignore')\n",
    "m2=cross_val_score(model7,feature,target,cv=cv)\n",
    "warnings.filterwarnings('ignore')\n",
    "m2"
   ]
  },
  {
   "cell_type": "code",
   "execution_count": 27,
   "id": "4cd4ac5a-4066-4849-bb46-27aca310ff3e",
   "metadata": {},
   "outputs": [
    {
     "data": {
      "text/plain": [
       "array([0.2173913 , 0.08695652])"
      ]
     },
     "execution_count": 27,
     "metadata": {},
     "output_type": "execute_result"
    }
   ],
   "source": [
    "model8=BaggingClassifier(n_estimators=100,estimator=model3)\n",
    "warnings.filterwarnings('ignore')\n",
    "m3=cross_val_score(model8,feature,target,cv=cv)\n",
    "warnings.filterwarnings('ignore')\n",
    "m3"
   ]
  },
  {
   "cell_type": "code",
   "execution_count": 28,
   "id": "9a59f9ff-9475-4513-abe0-f417ddbe9003",
   "metadata": {},
   "outputs": [
    {
     "data": {
      "text/plain": [
       "array([0.13043478, 0.17391304])"
      ]
     },
     "execution_count": 28,
     "metadata": {},
     "output_type": "execute_result"
    }
   ],
   "source": [
    "model9=BaggingClassifier(n_estimators=100,estimator=model4)\n",
    "warnings.filterwarnings('ignore')\n",
    "m4=cross_val_score(model9,feature,target,cv=cv)\n",
    "warnings.filterwarnings('ignore')\n",
    "m4"
   ]
  },
  {
   "cell_type": "code",
   "execution_count": 29,
   "id": "c8f7a80b-7314-439a-bf9d-d72cb21b752c",
   "metadata": {},
   "outputs": [
    {
     "data": {
      "text/plain": [
       "array([0., 0.])"
      ]
     },
     "execution_count": 29,
     "metadata": {},
     "output_type": "execute_result"
    }
   ],
   "source": [
    "model10=BaggingClassifier(n_estimators=100,estimator=model5)\n",
    "warnings.filterwarnings('ignore')\n",
    "m5=cross_val_score(model10,feature,target,cv=cv)\n",
    "warnings.filterwarnings('ignore')\n",
    "m5"
   ]
  },
  {
   "cell_type": "markdown",
   "id": "f345347c-8b76-458e-985a-741a2346797b",
   "metadata": {},
   "source": [
    "## using train_test_split "
   ]
  },
  {
   "cell_type": "code",
   "execution_count": 30,
   "id": "760048cb-c61a-456d-9174-b986e081f9d6",
   "metadata": {},
   "outputs": [],
   "source": [
    "x,xt,y,yt=train_test_split(feature,target,test_size=0.2)"
   ]
  },
  {
   "cell_type": "code",
   "execution_count": 31,
   "id": "e31af981-93f9-423a-8ed4-7a56600ba786",
   "metadata": {},
   "outputs": [
    {
     "data": {
      "text/plain": [
       "0.13043478260869565"
      ]
     },
     "execution_count": 31,
     "metadata": {},
     "output_type": "execute_result"
    }
   ],
   "source": [
    "model1=LogisticRegression(max_iter=500)\n",
    "model1.fit(x,y)\n",
    "warnings.filterwarnings('ignore')\n",
    "model1.score(xt,yt)"
   ]
  },
  {
   "cell_type": "code",
   "execution_count": 32,
   "id": "e2a6fdc9-fc62-49cf-8f8f-2d4c749a0964",
   "metadata": {},
   "outputs": [
    {
     "data": {
      "text/plain": [
       "0.15217391304347827"
      ]
     },
     "execution_count": 32,
     "metadata": {},
     "output_type": "execute_result"
    }
   ],
   "source": [
    "model2=GaussianNB()\n",
    "model2.fit(x,y)\n",
    "warnings.filterwarnings('ignore')\n",
    "model2.score(xt,yt)"
   ]
  },
  {
   "cell_type": "code",
   "execution_count": 33,
   "id": "8f2018f9-9106-4bdb-84f2-c2b1d69129d4",
   "metadata": {},
   "outputs": [
    {
     "data": {
      "text/plain": [
       "0.13043478260869565"
      ]
     },
     "execution_count": 33,
     "metadata": {},
     "output_type": "execute_result"
    }
   ],
   "source": [
    "model3=DecisionTreeClassifier()\n",
    "model3.fit(x,y)\n",
    "warnings.filterwarnings('ignore')\n",
    "model3.score(xt,yt)"
   ]
  },
  {
   "cell_type": "code",
   "execution_count": 34,
   "id": "a809bf88-9148-4bfb-8df5-1c8547a988b6",
   "metadata": {},
   "outputs": [
    {
     "data": {
      "text/plain": [
       "0.13043478260869565"
      ]
     },
     "execution_count": 34,
     "metadata": {},
     "output_type": "execute_result"
    }
   ],
   "source": [
    "model4=RandomForestClassifier(n_estimators=200)\n",
    "model4.fit(x,y)\n",
    "warnings.filterwarnings('ignore')\n",
    "model4.score(xt,yt)"
   ]
  },
  {
   "cell_type": "code",
   "execution_count": 35,
   "id": "c21863ef-3fc7-4c0e-bceb-ff81838967b1",
   "metadata": {},
   "outputs": [
    {
     "data": {
      "text/plain": [
       "0.021739130434782608"
      ]
     },
     "execution_count": 35,
     "metadata": {},
     "output_type": "execute_result"
    }
   ],
   "source": [
    "model5=KNeighborsClassifier(n_neighbors=5)\n",
    "model5.fit(x,y)\n",
    "warnings.filterwarnings('ignore')\n",
    "model5.score(xt,yt)"
   ]
  },
  {
   "cell_type": "code",
   "execution_count": 36,
   "id": "29d076ec-6af2-4d57-99cc-956a95655b3b",
   "metadata": {},
   "outputs": [
    {
     "data": {
      "text/plain": [
       "0.13043478260869565"
      ]
     },
     "execution_count": 36,
     "metadata": {},
     "output_type": "execute_result"
    }
   ],
   "source": [
    "model6=BaggingClassifier(n_estimators=100,estimator=model1)\n",
    "model6.fit(x,y)\n",
    "warnings.filterwarnings('ignore')\n",
    "model6.score(xt,yt)"
   ]
  },
  {
   "cell_type": "code",
   "execution_count": 37,
   "id": "a9efa7d2-46e8-4fcf-8f54-00a4102f7041",
   "metadata": {},
   "outputs": [
    {
     "data": {
      "text/plain": [
       "0.13043478260869565"
      ]
     },
     "execution_count": 37,
     "metadata": {},
     "output_type": "execute_result"
    }
   ],
   "source": [
    "model7=BaggingClassifier(n_estimators=100,estimator=model2)\n",
    "model7.fit(x,y)\n",
    "warnings.filterwarnings('ignore')\n",
    "model7.score(xt,yt)"
   ]
  },
  {
   "cell_type": "code",
   "execution_count": 38,
   "id": "6cde121d-6f00-4574-b18d-40dc09568b4a",
   "metadata": {},
   "outputs": [
    {
     "data": {
      "text/plain": [
       "0.13043478260869565"
      ]
     },
     "execution_count": 38,
     "metadata": {},
     "output_type": "execute_result"
    }
   ],
   "source": [
    "model8=BaggingClassifier(n_estimators=100,estimator=model3)\n",
    "model8.fit(x,y)\n",
    "warnings.filterwarnings('ignore')\n",
    "model8.score(xt,yt)"
   ]
  },
  {
   "cell_type": "code",
   "execution_count": 39,
   "id": "2bc91ca3-7fbd-4dff-af1a-353c082c52cd",
   "metadata": {},
   "outputs": [
    {
     "data": {
      "text/plain": [
       "0.13043478260869565"
      ]
     },
     "execution_count": 39,
     "metadata": {},
     "output_type": "execute_result"
    }
   ],
   "source": [
    "model9=BaggingClassifier(n_estimators=100,estimator=model4)\n",
    "model9.fit(x,y)\n",
    "warnings.filterwarnings('ignore')\n",
    "model9.score(xt,yt)"
   ]
  },
  {
   "cell_type": "code",
   "execution_count": 40,
   "id": "ed82b2a2-4bfd-4d57-af39-3e2b2693f55d",
   "metadata": {},
   "outputs": [
    {
     "data": {
      "text/plain": [
       "0.08695652173913043"
      ]
     },
     "execution_count": 40,
     "metadata": {},
     "output_type": "execute_result"
    }
   ],
   "source": [
    "model10=BaggingClassifier(n_estimators=100,estimator=model5)\n",
    "model10.fit(x,y)\n",
    "warnings.filterwarnings('ignore')\n",
    "model10.score(xt,yt)"
   ]
  },
  {
   "cell_type": "code",
   "execution_count": 41,
   "id": "241327c0-1026-42db-a0c6-1b9a3e3a3b4e",
   "metadata": {},
   "outputs": [],
   "source": [
    "# i was planning to make some plots, but since the results are too weak, I didn’t go ahead with it."
   ]
  },
  {
   "cell_type": "code",
   "execution_count": null,
   "id": "071268d8-65aa-48db-8f52-74440b14d370",
   "metadata": {},
   "outputs": [],
   "source": []
  }
 ],
 "metadata": {
  "kernelspec": {
   "display_name": "Python 3 (ipykernel)",
   "language": "python",
   "name": "python3"
  },
  "language_info": {
   "codemirror_mode": {
    "name": "ipython",
    "version": 3
   },
   "file_extension": ".py",
   "mimetype": "text/x-python",
   "name": "python",
   "nbconvert_exporter": "python",
   "pygments_lexer": "ipython3",
   "version": "3.13.5"
  }
 },
 "nbformat": 4,
 "nbformat_minor": 5
}
